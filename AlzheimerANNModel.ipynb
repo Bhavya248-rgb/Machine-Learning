{
 "cells": [
  {
   "cell_type": "code",
   "execution_count": 33,
   "id": "0ae8ecf3-654e-4ca3-81c7-6a6731453680",
   "metadata": {},
   "outputs": [],
   "source": [
    "import numpy as np\n",
    "import pandas as pd\n",
    "import seaborn as sns\n",
    "import matplotlib.pyplot as plt"
   ]
  },
  {
   "cell_type": "code",
   "execution_count": 34,
   "id": "ac017301-9125-44ca-9e77-719b50b821a7",
   "metadata": {},
   "outputs": [],
   "source": [
    "df = pd.read_csv(\"C:\\\\SEM-4\\\\ML-Datasets\\\\oasis_longitudinal.csv\")"
   ]
  },
  {
   "cell_type": "code",
   "execution_count": 35,
   "id": "6e4722d8-e8cd-420a-8dd8-560aa9bcb043",
   "metadata": {},
   "outputs": [
    {
     "data": {
      "text/html": [
       "<div>\n",
       "<style scoped>\n",
       "    .dataframe tbody tr th:only-of-type {\n",
       "        vertical-align: middle;\n",
       "    }\n",
       "\n",
       "    .dataframe tbody tr th {\n",
       "        vertical-align: top;\n",
       "    }\n",
       "\n",
       "    .dataframe thead th {\n",
       "        text-align: right;\n",
       "    }\n",
       "</style>\n",
       "<table border=\"1\" class=\"dataframe\">\n",
       "  <thead>\n",
       "    <tr style=\"text-align: right;\">\n",
       "      <th></th>\n",
       "      <th>Subject ID</th>\n",
       "      <th>MRI ID</th>\n",
       "      <th>Group</th>\n",
       "      <th>Visit</th>\n",
       "      <th>MR Delay</th>\n",
       "      <th>M/F</th>\n",
       "      <th>Hand</th>\n",
       "      <th>Age</th>\n",
       "      <th>EDUC</th>\n",
       "      <th>SES</th>\n",
       "      <th>MMSE</th>\n",
       "      <th>CDR</th>\n",
       "      <th>eTIV</th>\n",
       "      <th>nWBV</th>\n",
       "      <th>ASF</th>\n",
       "    </tr>\n",
       "  </thead>\n",
       "  <tbody>\n",
       "    <tr>\n",
       "      <th>0</th>\n",
       "      <td>OAS2_0001</td>\n",
       "      <td>OAS2_0001_MR1</td>\n",
       "      <td>Nondemented</td>\n",
       "      <td>1</td>\n",
       "      <td>0</td>\n",
       "      <td>M</td>\n",
       "      <td>R</td>\n",
       "      <td>87</td>\n",
       "      <td>14</td>\n",
       "      <td>2.0</td>\n",
       "      <td>27.0</td>\n",
       "      <td>0.0</td>\n",
       "      <td>1987</td>\n",
       "      <td>0.696</td>\n",
       "      <td>0.883</td>\n",
       "    </tr>\n",
       "    <tr>\n",
       "      <th>1</th>\n",
       "      <td>OAS2_0001</td>\n",
       "      <td>OAS2_0001_MR2</td>\n",
       "      <td>Nondemented</td>\n",
       "      <td>2</td>\n",
       "      <td>457</td>\n",
       "      <td>M</td>\n",
       "      <td>R</td>\n",
       "      <td>88</td>\n",
       "      <td>14</td>\n",
       "      <td>2.0</td>\n",
       "      <td>30.0</td>\n",
       "      <td>0.0</td>\n",
       "      <td>2004</td>\n",
       "      <td>0.681</td>\n",
       "      <td>0.876</td>\n",
       "    </tr>\n",
       "    <tr>\n",
       "      <th>2</th>\n",
       "      <td>OAS2_0002</td>\n",
       "      <td>OAS2_0002_MR1</td>\n",
       "      <td>Demented</td>\n",
       "      <td>1</td>\n",
       "      <td>0</td>\n",
       "      <td>M</td>\n",
       "      <td>R</td>\n",
       "      <td>75</td>\n",
       "      <td>12</td>\n",
       "      <td>NaN</td>\n",
       "      <td>23.0</td>\n",
       "      <td>0.5</td>\n",
       "      <td>1678</td>\n",
       "      <td>0.736</td>\n",
       "      <td>1.046</td>\n",
       "    </tr>\n",
       "    <tr>\n",
       "      <th>3</th>\n",
       "      <td>OAS2_0002</td>\n",
       "      <td>OAS2_0002_MR2</td>\n",
       "      <td>Demented</td>\n",
       "      <td>2</td>\n",
       "      <td>560</td>\n",
       "      <td>M</td>\n",
       "      <td>R</td>\n",
       "      <td>76</td>\n",
       "      <td>12</td>\n",
       "      <td>NaN</td>\n",
       "      <td>28.0</td>\n",
       "      <td>0.5</td>\n",
       "      <td>1738</td>\n",
       "      <td>0.713</td>\n",
       "      <td>1.010</td>\n",
       "    </tr>\n",
       "    <tr>\n",
       "      <th>4</th>\n",
       "      <td>OAS2_0002</td>\n",
       "      <td>OAS2_0002_MR3</td>\n",
       "      <td>Demented</td>\n",
       "      <td>3</td>\n",
       "      <td>1895</td>\n",
       "      <td>M</td>\n",
       "      <td>R</td>\n",
       "      <td>80</td>\n",
       "      <td>12</td>\n",
       "      <td>NaN</td>\n",
       "      <td>22.0</td>\n",
       "      <td>0.5</td>\n",
       "      <td>1698</td>\n",
       "      <td>0.701</td>\n",
       "      <td>1.034</td>\n",
       "    </tr>\n",
       "    <tr>\n",
       "      <th>5</th>\n",
       "      <td>OAS2_0004</td>\n",
       "      <td>OAS2_0004_MR1</td>\n",
       "      <td>Nondemented</td>\n",
       "      <td>1</td>\n",
       "      <td>0</td>\n",
       "      <td>F</td>\n",
       "      <td>R</td>\n",
       "      <td>88</td>\n",
       "      <td>18</td>\n",
       "      <td>3.0</td>\n",
       "      <td>28.0</td>\n",
       "      <td>0.0</td>\n",
       "      <td>1215</td>\n",
       "      <td>0.710</td>\n",
       "      <td>1.444</td>\n",
       "    </tr>\n",
       "    <tr>\n",
       "      <th>6</th>\n",
       "      <td>OAS2_0004</td>\n",
       "      <td>OAS2_0004_MR2</td>\n",
       "      <td>Nondemented</td>\n",
       "      <td>2</td>\n",
       "      <td>538</td>\n",
       "      <td>F</td>\n",
       "      <td>R</td>\n",
       "      <td>90</td>\n",
       "      <td>18</td>\n",
       "      <td>3.0</td>\n",
       "      <td>27.0</td>\n",
       "      <td>0.0</td>\n",
       "      <td>1200</td>\n",
       "      <td>0.718</td>\n",
       "      <td>1.462</td>\n",
       "    </tr>\n",
       "    <tr>\n",
       "      <th>7</th>\n",
       "      <td>OAS2_0005</td>\n",
       "      <td>OAS2_0005_MR1</td>\n",
       "      <td>Nondemented</td>\n",
       "      <td>1</td>\n",
       "      <td>0</td>\n",
       "      <td>M</td>\n",
       "      <td>R</td>\n",
       "      <td>80</td>\n",
       "      <td>12</td>\n",
       "      <td>4.0</td>\n",
       "      <td>28.0</td>\n",
       "      <td>0.0</td>\n",
       "      <td>1689</td>\n",
       "      <td>0.712</td>\n",
       "      <td>1.039</td>\n",
       "    </tr>\n",
       "    <tr>\n",
       "      <th>8</th>\n",
       "      <td>OAS2_0005</td>\n",
       "      <td>OAS2_0005_MR2</td>\n",
       "      <td>Nondemented</td>\n",
       "      <td>2</td>\n",
       "      <td>1010</td>\n",
       "      <td>M</td>\n",
       "      <td>R</td>\n",
       "      <td>83</td>\n",
       "      <td>12</td>\n",
       "      <td>4.0</td>\n",
       "      <td>29.0</td>\n",
       "      <td>0.5</td>\n",
       "      <td>1701</td>\n",
       "      <td>0.711</td>\n",
       "      <td>1.032</td>\n",
       "    </tr>\n",
       "    <tr>\n",
       "      <th>9</th>\n",
       "      <td>OAS2_0005</td>\n",
       "      <td>OAS2_0005_MR3</td>\n",
       "      <td>Nondemented</td>\n",
       "      <td>3</td>\n",
       "      <td>1603</td>\n",
       "      <td>M</td>\n",
       "      <td>R</td>\n",
       "      <td>85</td>\n",
       "      <td>12</td>\n",
       "      <td>4.0</td>\n",
       "      <td>30.0</td>\n",
       "      <td>0.0</td>\n",
       "      <td>1699</td>\n",
       "      <td>0.705</td>\n",
       "      <td>1.033</td>\n",
       "    </tr>\n",
       "  </tbody>\n",
       "</table>\n",
       "</div>"
      ],
      "text/plain": [
       "  Subject ID         MRI ID        Group  Visit  MR Delay M/F Hand  Age  EDUC  \\\n",
       "0  OAS2_0001  OAS2_0001_MR1  Nondemented      1         0   M    R   87    14   \n",
       "1  OAS2_0001  OAS2_0001_MR2  Nondemented      2       457   M    R   88    14   \n",
       "2  OAS2_0002  OAS2_0002_MR1     Demented      1         0   M    R   75    12   \n",
       "3  OAS2_0002  OAS2_0002_MR2     Demented      2       560   M    R   76    12   \n",
       "4  OAS2_0002  OAS2_0002_MR3     Demented      3      1895   M    R   80    12   \n",
       "5  OAS2_0004  OAS2_0004_MR1  Nondemented      1         0   F    R   88    18   \n",
       "6  OAS2_0004  OAS2_0004_MR2  Nondemented      2       538   F    R   90    18   \n",
       "7  OAS2_0005  OAS2_0005_MR1  Nondemented      1         0   M    R   80    12   \n",
       "8  OAS2_0005  OAS2_0005_MR2  Nondemented      2      1010   M    R   83    12   \n",
       "9  OAS2_0005  OAS2_0005_MR3  Nondemented      3      1603   M    R   85    12   \n",
       "\n",
       "   SES  MMSE  CDR  eTIV   nWBV    ASF  \n",
       "0  2.0  27.0  0.0  1987  0.696  0.883  \n",
       "1  2.0  30.0  0.0  2004  0.681  0.876  \n",
       "2  NaN  23.0  0.5  1678  0.736  1.046  \n",
       "3  NaN  28.0  0.5  1738  0.713  1.010  \n",
       "4  NaN  22.0  0.5  1698  0.701  1.034  \n",
       "5  3.0  28.0  0.0  1215  0.710  1.444  \n",
       "6  3.0  27.0  0.0  1200  0.718  1.462  \n",
       "7  4.0  28.0  0.0  1689  0.712  1.039  \n",
       "8  4.0  29.0  0.5  1701  0.711  1.032  \n",
       "9  4.0  30.0  0.0  1699  0.705  1.033  "
      ]
     },
     "execution_count": 35,
     "metadata": {},
     "output_type": "execute_result"
    }
   ],
   "source": [
    "df.head(10)"
   ]
  },
  {
   "cell_type": "code",
   "execution_count": 36,
   "id": "e40f54fc-4b51-4464-b997-20bce8373ce7",
   "metadata": {},
   "outputs": [
    {
     "data": {
      "text/plain": [
       "Subject ID     0\n",
       "MRI ID         0\n",
       "Group          0\n",
       "Visit          0\n",
       "MR Delay       0\n",
       "M/F            0\n",
       "Hand           0\n",
       "Age            0\n",
       "EDUC           0\n",
       "SES           19\n",
       "MMSE           2\n",
       "CDR            0\n",
       "eTIV           0\n",
       "nWBV           0\n",
       "ASF            0\n",
       "dtype: int64"
      ]
     },
     "execution_count": 36,
     "metadata": {},
     "output_type": "execute_result"
    }
   ],
   "source": [
    "df.isnull().sum()"
   ]
  },
  {
   "cell_type": "code",
   "execution_count": 37,
   "id": "6322819e-e84b-42c1-b1d6-b1c836dbcacb",
   "metadata": {},
   "outputs": [],
   "source": [
    "df['SES'] = df['SES'].fillna(df['SES'].median())\n",
    "df['MMSE'] = df['MMSE'].fillna(df['MMSE'].median())"
   ]
  },
  {
   "cell_type": "code",
   "execution_count": 38,
   "id": "a474749e-a654-410e-a433-f3148b960180",
   "metadata": {},
   "outputs": [],
   "source": [
    "df['M/F'] = df['M/F'].map({'M': 0, 'F': 1})"
   ]
  },
  {
   "cell_type": "code",
   "execution_count": 39,
   "id": "67e29864-6dcc-4b3a-a8e2-1473c12ce2b9",
   "metadata": {},
   "outputs": [
    {
     "data": {
      "text/plain": [
       "Subject ID    0\n",
       "MRI ID        0\n",
       "Group         0\n",
       "Visit         0\n",
       "MR Delay      0\n",
       "M/F           0\n",
       "Hand          0\n",
       "Age           0\n",
       "EDUC          0\n",
       "SES           0\n",
       "MMSE          0\n",
       "CDR           0\n",
       "eTIV          0\n",
       "nWBV          0\n",
       "ASF           0\n",
       "dtype: int64"
      ]
     },
     "execution_count": 39,
     "metadata": {},
     "output_type": "execute_result"
    }
   ],
   "source": [
    "df.isnull().sum()"
   ]
  },
  {
   "cell_type": "code",
   "execution_count": 40,
   "id": "bcd4d07d-be10-4735-bef2-7a02638fda5a",
   "metadata": {},
   "outputs": [],
   "source": [
    "# Convert Group (Converted → 0, Demented → 1, Nondemented → 2)\n",
    "df['Group'] = df['Group'].map({'Converted': 0, 'Demented': 1, 'Nondemented': 2})"
   ]
  },
  {
   "cell_type": "code",
   "execution_count": 62,
   "id": "725c8b55-db90-496e-9c4c-28a928ce0925",
   "metadata": {},
   "outputs": [
    {
     "data": {
      "text/plain": [
       "Group\n",
       "2    190\n",
       "1    146\n",
       "0     37\n",
       "Name: count, dtype: int64"
      ]
     },
     "execution_count": 62,
     "metadata": {},
     "output_type": "execute_result"
    }
   ],
   "source": [
    "#count the new classes of our Groups now\n",
    "df['Group'].value_counts()"
   ]
  },
  {
   "cell_type": "code",
   "execution_count": 43,
   "id": "3fcbb32b-ed6e-4b1b-bcd7-7863a052f83f",
   "metadata": {},
   "outputs": [],
   "source": [
    "import tensorflow as tf\n",
    "from tensorflow import keras\n",
    "from tensorflow.keras.models import Sequential\n",
    "from tensorflow.keras.layers import Dense, Dropout\n",
    "from sklearn.preprocessing import StandardScaler\n",
    "from sklearn.metrics import accuracy_score, classification_report\n"
   ]
  },
  {
   "cell_type": "code",
   "execution_count": 44,
   "id": "55257d74-07de-45b8-8311-dba8fe50e2c4",
   "metadata": {},
   "outputs": [],
   "source": [
    "# Sort by Subject ID and Visit number\n",
    "df.sort_values(by=['Subject ID', 'Visit'], inplace=True)\n",
    "\n",
    "# Create new feature: Change in MMSE score over time\n",
    "df['MMSE_Change'] = df.groupby('Subject ID')['MMSE'].diff()\n",
    "\n",
    "# Create new feature: Change in Whole Brain Volume\n",
    "df['nWBV_Change'] = df.groupby('Subject ID')['nWBV'].diff()\n",
    "\n",
    "# Create new feature: Change in Clinical Dementia Rating (CDR)\n",
    "df['CDR_Change'] = df.groupby('Subject ID')['CDR'].diff()\n"
   ]
  },
  {
   "cell_type": "code",
   "execution_count": 45,
   "id": "19534286-dffb-440a-891f-71b1b2b03e2d",
   "metadata": {},
   "outputs": [],
   "source": [
    "# Compute the rate of MMSE decline for each patient\n",
    "df['MMSE_Decline_Rate'] = df.groupby('Subject ID')['MMSE_Change'].transform(lambda x: x.mean())\n",
    "\n",
    "# Compute the rate of Brain Volume decline for each patient\n",
    "df['nWBV_Decline_Rate'] = df.groupby('Subject ID')['nWBV_Change'].transform(lambda x: x.mean())"
   ]
  },
  {
   "cell_type": "code",
   "execution_count": 46,
   "id": "10f638ef-437b-4184-8497-7fac55cfc8b8",
   "metadata": {},
   "outputs": [
    {
     "data": {
      "text/plain": [
       "Subject ID             0\n",
       "MRI ID                 0\n",
       "Group                  0\n",
       "Visit                  0\n",
       "MR Delay               0\n",
       "M/F                    0\n",
       "Hand                   0\n",
       "Age                    0\n",
       "EDUC                   0\n",
       "SES                    0\n",
       "MMSE                   0\n",
       "CDR                    0\n",
       "eTIV                   0\n",
       "nWBV                   0\n",
       "ASF                    0\n",
       "MMSE_Change          150\n",
       "nWBV_Change          150\n",
       "CDR_Change           150\n",
       "MMSE_Decline_Rate      0\n",
       "nWBV_Decline_Rate      0\n",
       "dtype: int64"
      ]
     },
     "execution_count": 46,
     "metadata": {},
     "output_type": "execute_result"
    }
   ],
   "source": [
    "df.isnull().sum()"
   ]
  },
  {
   "cell_type": "code",
   "execution_count": 47,
   "id": "76f5a288-b51f-4b98-9769-b97fe03887c5",
   "metadata": {},
   "outputs": [],
   "source": [
    "df['MMSE_Change'] = df['MMSE_Change'].fillna(df['MMSE_Change'].mean())\n",
    "df['nWBV_Change'] = df['nWBV_Change'].fillna(df['nWBV_Change'].mean())\n",
    "df['CDR_Change'] = df['CDR_Change'].fillna(df['CDR_Change'].mean())"
   ]
  },
  {
   "cell_type": "code",
   "execution_count": 48,
   "id": "a133c3c0-e754-4209-ab74-b67fc57e36bb",
   "metadata": {},
   "outputs": [
    {
     "data": {
      "text/plain": [
       "Subject ID           0\n",
       "MRI ID               0\n",
       "Group                0\n",
       "Visit                0\n",
       "MR Delay             0\n",
       "M/F                  0\n",
       "Hand                 0\n",
       "Age                  0\n",
       "EDUC                 0\n",
       "SES                  0\n",
       "MMSE                 0\n",
       "CDR                  0\n",
       "eTIV                 0\n",
       "nWBV                 0\n",
       "ASF                  0\n",
       "MMSE_Change          0\n",
       "nWBV_Change          0\n",
       "CDR_Change           0\n",
       "MMSE_Decline_Rate    0\n",
       "nWBV_Decline_Rate    0\n",
       "dtype: int64"
      ]
     },
     "execution_count": 48,
     "metadata": {},
     "output_type": "execute_result"
    }
   ],
   "source": [
    "df.isnull().sum()"
   ]
  },
  {
   "cell_type": "code",
   "execution_count": 49,
   "id": "252d3fdd-c812-43c8-9671-82e0ef7ac62c",
   "metadata": {},
   "outputs": [],
   "source": [
    "X = df.drop(columns=['Group', 'Subject ID', 'MRI ID','Visit','Hand'])\n",
    "y = df['Group']"
   ]
  },
  {
   "cell_type": "code",
   "execution_count": 58,
   "id": "f104e1a1-bd16-4c94-89e4-136331690e57",
   "metadata": {},
   "outputs": [
    {
     "data": {
      "text/plain": [
       "Index(['MR Delay', 'M/F', 'Age', 'EDUC', 'SES', 'MMSE', 'CDR', 'eTIV', 'nWBV',\n",
       "       'ASF', 'MMSE_Change', 'nWBV_Change', 'CDR_Change', 'MMSE_Decline_Rate',\n",
       "       'nWBV_Decline_Rate'],\n",
       "      dtype='object')"
      ]
     },
     "execution_count": 58,
     "metadata": {},
     "output_type": "execute_result"
    }
   ],
   "source": [
    "X.columns"
   ]
  },
  {
   "cell_type": "code",
   "execution_count": 50,
   "id": "adffd676-8097-444c-8058-12026b0d8dfb",
   "metadata": {},
   "outputs": [
    {
     "name": "stdout",
     "output_type": "stream",
     "text": [
      "Training Data: (261, 15)\n",
      "Validation Data: (56, 15)\n",
      "Test Data: (56, 15)\n"
     ]
    }
   ],
   "source": [
    "# X_train, X_test, y_train, y_test = train_test_split(X, y, test_size=0.2, random_state=42, stratify=y)\n",
    "# First, split into train (85%) and test (15%)\n",
    "X_train, X_test, y_train, y_test = train_test_split(X, y, test_size=0.15, random_state=42, stratify=y)\n",
    "\n",
    "# Now, split train into train (70%) and validation (15%)\n",
    "X_train, X_val, y_train, y_val = train_test_split(X_train, y_train, test_size=0.176, random_state=42, stratify=y_train)\n",
    "\n",
    "# Check sizes\n",
    "print(\"Training Data:\", X_train.shape)\n",
    "print(\"Validation Data:\", X_val.shape)\n",
    "print(\"Test Data:\", X_test.shape)"
   ]
  },
  {
   "cell_type": "code",
   "execution_count": 51,
   "id": "79795da1-66ae-449f-a5bf-6b67eedb9187",
   "metadata": {},
   "outputs": [
    {
     "name": "stdout",
     "output_type": "stream",
     "text": [
      "Balanced class distribution: Group\n",
      "2    133\n",
      "0    133\n",
      "1    133\n",
      "Name: count, dtype: int64\n"
     ]
    }
   ],
   "source": [
    "# Apply SMOTE to balance the dataset\n",
    "smote = SMOTE(random_state=42)\n",
    "X_train_balanced, y_train_balanced = smote.fit_resample(X_train, y_train)\n",
    "\n",
    "# Check new class distribution\n",
    "print(\"Balanced class distribution:\", y_train_balanced.value_counts())"
   ]
  },
  {
   "cell_type": "code",
   "execution_count": 52,
   "id": "a5bb18ba-e497-4118-87f1-14686ca248f9",
   "metadata": {},
   "outputs": [],
   "source": [
    "scaler = StandardScaler()\n",
    "X_train_scaled = scaler.fit_transform(X_train_balanced)\n",
    "X_val_scaled = scaler.transform(X_val)  \n",
    "X_test_scaled = scaler.transform(X_test)  "
   ]
  },
  {
   "cell_type": "code",
   "execution_count": 53,
   "id": "015b2175-ae8a-4d5a-8ea8-ae789d2119a1",
   "metadata": {},
   "outputs": [
    {
     "data": {
      "text/plain": [
       "Group\n",
       "2    28\n",
       "1    22\n",
       "0     6\n",
       "Name: count, dtype: int64"
      ]
     },
     "execution_count": 53,
     "metadata": {},
     "output_type": "execute_result"
    }
   ],
   "source": [
    "y_test.value_counts()"
   ]
  },
  {
   "cell_type": "code",
   "execution_count": 54,
   "id": "24f66b5f-8882-484a-adb3-843f91031238",
   "metadata": {},
   "outputs": [
    {
     "name": "stderr",
     "output_type": "stream",
     "text": [
      "C:\\Users\\srira\\AppData\\Local\\Programs\\Python\\Python312\\Lib\\site-packages\\keras\\src\\layers\\core\\dense.py:87: UserWarning: Do not pass an `input_shape`/`input_dim` argument to a layer. When using Sequential models, prefer using an `Input(shape)` object as the first layer in the model instead.\n",
      "  super().__init__(activity_regularizer=activity_regularizer, **kwargs)\n"
     ]
    },
    {
     "data": {
      "text/html": [
       "<pre style=\"white-space:pre;overflow-x:auto;line-height:normal;font-family:Menlo,'DejaVu Sans Mono',consolas,'Courier New',monospace\"><span style=\"font-weight: bold\">Model: \"sequential_1\"</span>\n",
       "</pre>\n"
      ],
      "text/plain": [
       "\u001b[1mModel: \"sequential_1\"\u001b[0m\n"
      ]
     },
     "metadata": {},
     "output_type": "display_data"
    },
    {
     "data": {
      "text/html": [
       "<pre style=\"white-space:pre;overflow-x:auto;line-height:normal;font-family:Menlo,'DejaVu Sans Mono',consolas,'Courier New',monospace\">┏━━━━━━━━━━━━━━━━━━━━━━━━━━━━━━━━━━━━━━┳━━━━━━━━━━━━━━━━━━━━━━━━━━━━━┳━━━━━━━━━━━━━━━━━┓\n",
       "┃<span style=\"font-weight: bold\"> Layer (type)                         </span>┃<span style=\"font-weight: bold\"> Output Shape                </span>┃<span style=\"font-weight: bold\">         Param # </span>┃\n",
       "┡━━━━━━━━━━━━━━━━━━━━━━━━━━━━━━━━━━━━━━╇━━━━━━━━━━━━━━━━━━━━━━━━━━━━━╇━━━━━━━━━━━━━━━━━┩\n",
       "│ dense_4 (<span style=\"color: #0087ff; text-decoration-color: #0087ff\">Dense</span>)                      │ (<span style=\"color: #00d7ff; text-decoration-color: #00d7ff\">None</span>, <span style=\"color: #00af00; text-decoration-color: #00af00\">256</span>)                 │           <span style=\"color: #00af00; text-decoration-color: #00af00\">4,096</span> │\n",
       "├──────────────────────────────────────┼─────────────────────────────┼─────────────────┤\n",
       "│ batch_normalization_3                │ (<span style=\"color: #00d7ff; text-decoration-color: #00d7ff\">None</span>, <span style=\"color: #00af00; text-decoration-color: #00af00\">256</span>)                 │           <span style=\"color: #00af00; text-decoration-color: #00af00\">1,024</span> │\n",
       "│ (<span style=\"color: #0087ff; text-decoration-color: #0087ff\">BatchNormalization</span>)                 │                             │                 │\n",
       "├──────────────────────────────────────┼─────────────────────────────┼─────────────────┤\n",
       "│ dropout_3 (<span style=\"color: #0087ff; text-decoration-color: #0087ff\">Dropout</span>)                  │ (<span style=\"color: #00d7ff; text-decoration-color: #00d7ff\">None</span>, <span style=\"color: #00af00; text-decoration-color: #00af00\">256</span>)                 │               <span style=\"color: #00af00; text-decoration-color: #00af00\">0</span> │\n",
       "├──────────────────────────────────────┼─────────────────────────────┼─────────────────┤\n",
       "│ dense_5 (<span style=\"color: #0087ff; text-decoration-color: #0087ff\">Dense</span>)                      │ (<span style=\"color: #00d7ff; text-decoration-color: #00d7ff\">None</span>, <span style=\"color: #00af00; text-decoration-color: #00af00\">128</span>)                 │          <span style=\"color: #00af00; text-decoration-color: #00af00\">32,896</span> │\n",
       "├──────────────────────────────────────┼─────────────────────────────┼─────────────────┤\n",
       "│ batch_normalization_4                │ (<span style=\"color: #00d7ff; text-decoration-color: #00d7ff\">None</span>, <span style=\"color: #00af00; text-decoration-color: #00af00\">128</span>)                 │             <span style=\"color: #00af00; text-decoration-color: #00af00\">512</span> │\n",
       "│ (<span style=\"color: #0087ff; text-decoration-color: #0087ff\">BatchNormalization</span>)                 │                             │                 │\n",
       "├──────────────────────────────────────┼─────────────────────────────┼─────────────────┤\n",
       "│ dropout_4 (<span style=\"color: #0087ff; text-decoration-color: #0087ff\">Dropout</span>)                  │ (<span style=\"color: #00d7ff; text-decoration-color: #00d7ff\">None</span>, <span style=\"color: #00af00; text-decoration-color: #00af00\">128</span>)                 │               <span style=\"color: #00af00; text-decoration-color: #00af00\">0</span> │\n",
       "├──────────────────────────────────────┼─────────────────────────────┼─────────────────┤\n",
       "│ dense_6 (<span style=\"color: #0087ff; text-decoration-color: #0087ff\">Dense</span>)                      │ (<span style=\"color: #00d7ff; text-decoration-color: #00d7ff\">None</span>, <span style=\"color: #00af00; text-decoration-color: #00af00\">64</span>)                  │           <span style=\"color: #00af00; text-decoration-color: #00af00\">8,256</span> │\n",
       "├──────────────────────────────────────┼─────────────────────────────┼─────────────────┤\n",
       "│ batch_normalization_5                │ (<span style=\"color: #00d7ff; text-decoration-color: #00d7ff\">None</span>, <span style=\"color: #00af00; text-decoration-color: #00af00\">64</span>)                  │             <span style=\"color: #00af00; text-decoration-color: #00af00\">256</span> │\n",
       "│ (<span style=\"color: #0087ff; text-decoration-color: #0087ff\">BatchNormalization</span>)                 │                             │                 │\n",
       "├──────────────────────────────────────┼─────────────────────────────┼─────────────────┤\n",
       "│ dropout_5 (<span style=\"color: #0087ff; text-decoration-color: #0087ff\">Dropout</span>)                  │ (<span style=\"color: #00d7ff; text-decoration-color: #00d7ff\">None</span>, <span style=\"color: #00af00; text-decoration-color: #00af00\">64</span>)                  │               <span style=\"color: #00af00; text-decoration-color: #00af00\">0</span> │\n",
       "├──────────────────────────────────────┼─────────────────────────────┼─────────────────┤\n",
       "│ dense_7 (<span style=\"color: #0087ff; text-decoration-color: #0087ff\">Dense</span>)                      │ (<span style=\"color: #00d7ff; text-decoration-color: #00d7ff\">None</span>, <span style=\"color: #00af00; text-decoration-color: #00af00\">3</span>)                   │             <span style=\"color: #00af00; text-decoration-color: #00af00\">195</span> │\n",
       "└──────────────────────────────────────┴─────────────────────────────┴─────────────────┘\n",
       "</pre>\n"
      ],
      "text/plain": [
       "┏━━━━━━━━━━━━━━━━━━━━━━━━━━━━━━━━━━━━━━┳━━━━━━━━━━━━━━━━━━━━━━━━━━━━━┳━━━━━━━━━━━━━━━━━┓\n",
       "┃\u001b[1m \u001b[0m\u001b[1mLayer (type)                        \u001b[0m\u001b[1m \u001b[0m┃\u001b[1m \u001b[0m\u001b[1mOutput Shape               \u001b[0m\u001b[1m \u001b[0m┃\u001b[1m \u001b[0m\u001b[1m        Param #\u001b[0m\u001b[1m \u001b[0m┃\n",
       "┡━━━━━━━━━━━━━━━━━━━━━━━━━━━━━━━━━━━━━━╇━━━━━━━━━━━━━━━━━━━━━━━━━━━━━╇━━━━━━━━━━━━━━━━━┩\n",
       "│ dense_4 (\u001b[38;5;33mDense\u001b[0m)                      │ (\u001b[38;5;45mNone\u001b[0m, \u001b[38;5;34m256\u001b[0m)                 │           \u001b[38;5;34m4,096\u001b[0m │\n",
       "├──────────────────────────────────────┼─────────────────────────────┼─────────────────┤\n",
       "│ batch_normalization_3                │ (\u001b[38;5;45mNone\u001b[0m, \u001b[38;5;34m256\u001b[0m)                 │           \u001b[38;5;34m1,024\u001b[0m │\n",
       "│ (\u001b[38;5;33mBatchNormalization\u001b[0m)                 │                             │                 │\n",
       "├──────────────────────────────────────┼─────────────────────────────┼─────────────────┤\n",
       "│ dropout_3 (\u001b[38;5;33mDropout\u001b[0m)                  │ (\u001b[38;5;45mNone\u001b[0m, \u001b[38;5;34m256\u001b[0m)                 │               \u001b[38;5;34m0\u001b[0m │\n",
       "├──────────────────────────────────────┼─────────────────────────────┼─────────────────┤\n",
       "│ dense_5 (\u001b[38;5;33mDense\u001b[0m)                      │ (\u001b[38;5;45mNone\u001b[0m, \u001b[38;5;34m128\u001b[0m)                 │          \u001b[38;5;34m32,896\u001b[0m │\n",
       "├──────────────────────────────────────┼─────────────────────────────┼─────────────────┤\n",
       "│ batch_normalization_4                │ (\u001b[38;5;45mNone\u001b[0m, \u001b[38;5;34m128\u001b[0m)                 │             \u001b[38;5;34m512\u001b[0m │\n",
       "│ (\u001b[38;5;33mBatchNormalization\u001b[0m)                 │                             │                 │\n",
       "├──────────────────────────────────────┼─────────────────────────────┼─────────────────┤\n",
       "│ dropout_4 (\u001b[38;5;33mDropout\u001b[0m)                  │ (\u001b[38;5;45mNone\u001b[0m, \u001b[38;5;34m128\u001b[0m)                 │               \u001b[38;5;34m0\u001b[0m │\n",
       "├──────────────────────────────────────┼─────────────────────────────┼─────────────────┤\n",
       "│ dense_6 (\u001b[38;5;33mDense\u001b[0m)                      │ (\u001b[38;5;45mNone\u001b[0m, \u001b[38;5;34m64\u001b[0m)                  │           \u001b[38;5;34m8,256\u001b[0m │\n",
       "├──────────────────────────────────────┼─────────────────────────────┼─────────────────┤\n",
       "│ batch_normalization_5                │ (\u001b[38;5;45mNone\u001b[0m, \u001b[38;5;34m64\u001b[0m)                  │             \u001b[38;5;34m256\u001b[0m │\n",
       "│ (\u001b[38;5;33mBatchNormalization\u001b[0m)                 │                             │                 │\n",
       "├──────────────────────────────────────┼─────────────────────────────┼─────────────────┤\n",
       "│ dropout_5 (\u001b[38;5;33mDropout\u001b[0m)                  │ (\u001b[38;5;45mNone\u001b[0m, \u001b[38;5;34m64\u001b[0m)                  │               \u001b[38;5;34m0\u001b[0m │\n",
       "├──────────────────────────────────────┼─────────────────────────────┼─────────────────┤\n",
       "│ dense_7 (\u001b[38;5;33mDense\u001b[0m)                      │ (\u001b[38;5;45mNone\u001b[0m, \u001b[38;5;34m3\u001b[0m)                   │             \u001b[38;5;34m195\u001b[0m │\n",
       "└──────────────────────────────────────┴─────────────────────────────┴─────────────────┘\n"
      ]
     },
     "metadata": {},
     "output_type": "display_data"
    },
    {
     "data": {
      "text/html": [
       "<pre style=\"white-space:pre;overflow-x:auto;line-height:normal;font-family:Menlo,'DejaVu Sans Mono',consolas,'Courier New',monospace\"><span style=\"font-weight: bold\"> Total params: </span><span style=\"color: #00af00; text-decoration-color: #00af00\">47,235</span> (184.51 KB)\n",
       "</pre>\n"
      ],
      "text/plain": [
       "\u001b[1m Total params: \u001b[0m\u001b[38;5;34m47,235\u001b[0m (184.51 KB)\n"
      ]
     },
     "metadata": {},
     "output_type": "display_data"
    },
    {
     "data": {
      "text/html": [
       "<pre style=\"white-space:pre;overflow-x:auto;line-height:normal;font-family:Menlo,'DejaVu Sans Mono',consolas,'Courier New',monospace\"><span style=\"font-weight: bold\"> Trainable params: </span><span style=\"color: #00af00; text-decoration-color: #00af00\">46,339</span> (181.01 KB)\n",
       "</pre>\n"
      ],
      "text/plain": [
       "\u001b[1m Trainable params: \u001b[0m\u001b[38;5;34m46,339\u001b[0m (181.01 KB)\n"
      ]
     },
     "metadata": {},
     "output_type": "display_data"
    },
    {
     "data": {
      "text/html": [
       "<pre style=\"white-space:pre;overflow-x:auto;line-height:normal;font-family:Menlo,'DejaVu Sans Mono',consolas,'Courier New',monospace\"><span style=\"font-weight: bold\"> Non-trainable params: </span><span style=\"color: #00af00; text-decoration-color: #00af00\">896</span> (3.50 KB)\n",
       "</pre>\n"
      ],
      "text/plain": [
       "\u001b[1m Non-trainable params: \u001b[0m\u001b[38;5;34m896\u001b[0m (3.50 KB)\n"
      ]
     },
     "metadata": {},
     "output_type": "display_data"
    }
   ],
   "source": [
    "from tensorflow.keras.optimizers import Adam\n",
    "\n",
    "\n",
    "# model = Sequential([\n",
    "#     Dense(256, activation='relu', input_shape=(X_train_scaled.shape[1],)),  \n",
    "#     Dropout(0.4),  # Increase dropout to prevent overfitting\n",
    "#     Dense(128, activation='relu'),\n",
    "#     Dropout(0.4),  \n",
    "#     Dense(64, activation='relu'),\n",
    "#     Dropout(0.4),\n",
    "#     Dense(3, activation='softmax')  \n",
    "# ])\n",
    "from tensorflow.keras.layers import BatchNormalization\n",
    "from tensorflow.keras.regularizers import l2\n",
    "\n",
    "model = Sequential([\n",
    "    Dense(256, activation='relu', kernel_regularizer=l2(0.01), input_shape=(X_train_scaled.shape[1],)),  \n",
    "    BatchNormalization(),\n",
    "    Dropout(0.3),  \n",
    "    Dense(128, activation='relu', kernel_regularizer=l2(0.01)),\n",
    "    BatchNormalization(),\n",
    "    Dropout(0.3),  \n",
    "    Dense(64, activation='relu', kernel_regularizer=l2(0.01)),\n",
    "    BatchNormalization(),\n",
    "    Dropout(0.3),\n",
    "    Dense(3, activation='softmax')  \n",
    "])\n",
    "\n",
    "# Compile the model\n",
    "# model.compile(optimizer='adam', loss='sparse_categorical_crossentropy', metrics=['accuracy'])\n",
    "model.compile(optimizer=Adam(learning_rate=0.0003), loss='sparse_categorical_crossentropy', metrics=['accuracy'])\n",
    "\n",
    "# Model Summary\n",
    "model.summary()"
   ]
  },
  {
   "cell_type": "code",
   "execution_count": 55,
   "id": "d6a1cd4e-7de2-4047-88f5-eb4e4a7e38ca",
   "metadata": {},
   "outputs": [
    {
     "name": "stdout",
     "output_type": "stream",
     "text": [
      "Epoch 1/100\n",
      "\u001b[1m25/25\u001b[0m \u001b[32m━━━━━━━━━━━━━━━━━━━━\u001b[0m\u001b[37m\u001b[0m \u001b[1m4s\u001b[0m 24ms/step - accuracy: 0.4067 - loss: 4.4908 - val_accuracy: 0.7857 - val_loss: 3.8122\n",
      "Epoch 2/100\n",
      "\u001b[1m25/25\u001b[0m \u001b[32m━━━━━━━━━━━━━━━━━━━━\u001b[0m\u001b[37m\u001b[0m \u001b[1m0s\u001b[0m 7ms/step - accuracy: 0.5530 - loss: 3.9304 - val_accuracy: 0.8393 - val_loss: 3.6783\n",
      "Epoch 3/100\n",
      "\u001b[1m25/25\u001b[0m \u001b[32m━━━━━━━━━━━━━━━━━━━━\u001b[0m\u001b[37m\u001b[0m \u001b[1m0s\u001b[0m 8ms/step - accuracy: 0.6144 - loss: 3.7155 - val_accuracy: 0.8571 - val_loss: 3.5522\n",
      "Epoch 4/100\n",
      "\u001b[1m25/25\u001b[0m \u001b[32m━━━━━━━━━━━━━━━━━━━━\u001b[0m\u001b[37m\u001b[0m \u001b[1m0s\u001b[0m 8ms/step - accuracy: 0.7217 - loss: 3.4608 - val_accuracy: 0.8571 - val_loss: 3.4436\n",
      "Epoch 5/100\n",
      "\u001b[1m25/25\u001b[0m \u001b[32m━━━━━━━━━━━━━━━━━━━━\u001b[0m\u001b[37m\u001b[0m \u001b[1m0s\u001b[0m 7ms/step - accuracy: 0.7397 - loss: 3.4149 - val_accuracy: 0.8929 - val_loss: 3.3427\n",
      "Epoch 6/100\n",
      "\u001b[1m25/25\u001b[0m \u001b[32m━━━━━━━━━━━━━━━━━━━━\u001b[0m\u001b[37m\u001b[0m \u001b[1m0s\u001b[0m 7ms/step - accuracy: 0.7780 - loss: 3.2683 - val_accuracy: 0.8929 - val_loss: 3.2552\n",
      "Epoch 7/100\n",
      "\u001b[1m25/25\u001b[0m \u001b[32m━━━━━━━━━━━━━━━━━━━━\u001b[0m\u001b[37m\u001b[0m \u001b[1m0s\u001b[0m 8ms/step - accuracy: 0.7903 - loss: 3.2134 - val_accuracy: 0.8929 - val_loss: 3.1702\n",
      "Epoch 8/100\n",
      "\u001b[1m25/25\u001b[0m \u001b[32m━━━━━━━━━━━━━━━━━━━━\u001b[0m\u001b[37m\u001b[0m \u001b[1m0s\u001b[0m 8ms/step - accuracy: 0.8180 - loss: 3.1476 - val_accuracy: 0.9107 - val_loss: 3.1026\n",
      "Epoch 9/100\n",
      "\u001b[1m25/25\u001b[0m \u001b[32m━━━━━━━━━━━━━━━━━━━━\u001b[0m\u001b[37m\u001b[0m \u001b[1m0s\u001b[0m 8ms/step - accuracy: 0.7925 - loss: 3.1147 - val_accuracy: 0.9107 - val_loss: 3.0414\n",
      "Epoch 10/100\n",
      "\u001b[1m25/25\u001b[0m \u001b[32m━━━━━━━━━━━━━━━━━━━━\u001b[0m\u001b[37m\u001b[0m \u001b[1m0s\u001b[0m 8ms/step - accuracy: 0.8115 - loss: 3.1087 - val_accuracy: 0.9107 - val_loss: 2.9938\n",
      "Epoch 11/100\n",
      "\u001b[1m25/25\u001b[0m \u001b[32m━━━━━━━━━━━━━━━━━━━━\u001b[0m\u001b[37m\u001b[0m \u001b[1m0s\u001b[0m 9ms/step - accuracy: 0.8386 - loss: 3.0650 - val_accuracy: 0.9107 - val_loss: 2.9524\n",
      "Epoch 12/100\n",
      "\u001b[1m25/25\u001b[0m \u001b[32m━━━━━━━━━━━━━━━━━━━━\u001b[0m\u001b[37m\u001b[0m \u001b[1m0s\u001b[0m 8ms/step - accuracy: 0.8759 - loss: 2.9006 - val_accuracy: 0.9107 - val_loss: 2.9144\n",
      "Epoch 13/100\n",
      "\u001b[1m25/25\u001b[0m \u001b[32m━━━━━━━━━━━━━━━━━━━━\u001b[0m\u001b[37m\u001b[0m \u001b[1m0s\u001b[0m 7ms/step - accuracy: 0.8804 - loss: 2.8709 - val_accuracy: 0.9107 - val_loss: 2.8732\n",
      "Epoch 14/100\n",
      "\u001b[1m25/25\u001b[0m \u001b[32m━━━━━━━━━━━━━━━━━━━━\u001b[0m\u001b[37m\u001b[0m \u001b[1m0s\u001b[0m 8ms/step - accuracy: 0.9246 - loss: 2.8041 - val_accuracy: 0.9107 - val_loss: 2.8305\n",
      "Epoch 15/100\n",
      "\u001b[1m25/25\u001b[0m \u001b[32m━━━━━━━━━━━━━━━━━━━━\u001b[0m\u001b[37m\u001b[0m \u001b[1m0s\u001b[0m 8ms/step - accuracy: 0.9028 - loss: 2.8439 - val_accuracy: 0.9107 - val_loss: 2.8049\n",
      "Epoch 16/100\n",
      "\u001b[1m25/25\u001b[0m \u001b[32m━━━━━━━━━━━━━━━━━━━━\u001b[0m\u001b[37m\u001b[0m \u001b[1m0s\u001b[0m 8ms/step - accuracy: 0.9006 - loss: 2.7623 - val_accuracy: 0.9107 - val_loss: 2.7736\n",
      "Epoch 17/100\n",
      "\u001b[1m25/25\u001b[0m \u001b[32m━━━━━━━━━━━━━━━━━━━━\u001b[0m\u001b[37m\u001b[0m \u001b[1m0s\u001b[0m 8ms/step - accuracy: 0.8480 - loss: 2.7800 - val_accuracy: 0.9107 - val_loss: 2.7466\n",
      "Epoch 18/100\n",
      "\u001b[1m25/25\u001b[0m \u001b[32m━━━━━━━━━━━━━━━━━━━━\u001b[0m\u001b[37m\u001b[0m \u001b[1m0s\u001b[0m 8ms/step - accuracy: 0.8858 - loss: 2.6904 - val_accuracy: 0.9107 - val_loss: 2.7231\n",
      "Epoch 19/100\n",
      "\u001b[1m25/25\u001b[0m \u001b[32m━━━━━━━━━━━━━━━━━━━━\u001b[0m\u001b[37m\u001b[0m \u001b[1m0s\u001b[0m 8ms/step - accuracy: 0.9045 - loss: 2.6513 - val_accuracy: 0.9107 - val_loss: 2.6988\n",
      "Epoch 20/100\n",
      "\u001b[1m25/25\u001b[0m \u001b[32m━━━━━━━━━━━━━━━━━━━━\u001b[0m\u001b[37m\u001b[0m \u001b[1m0s\u001b[0m 8ms/step - accuracy: 0.9143 - loss: 2.6561 - val_accuracy: 0.9107 - val_loss: 2.6610\n",
      "Epoch 21/100\n",
      "\u001b[1m25/25\u001b[0m \u001b[32m━━━━━━━━━━━━━━━━━━━━\u001b[0m\u001b[37m\u001b[0m \u001b[1m0s\u001b[0m 7ms/step - accuracy: 0.9046 - loss: 2.6126 - val_accuracy: 0.9107 - val_loss: 2.6398\n",
      "Epoch 22/100\n",
      "\u001b[1m25/25\u001b[0m \u001b[32m━━━━━━━━━━━━━━━━━━━━\u001b[0m\u001b[37m\u001b[0m \u001b[1m0s\u001b[0m 8ms/step - accuracy: 0.9274 - loss: 2.5250 - val_accuracy: 0.9107 - val_loss: 2.6099\n",
      "Epoch 23/100\n",
      "\u001b[1m25/25\u001b[0m \u001b[32m━━━━━━━━━━━━━━━━━━━━\u001b[0m\u001b[37m\u001b[0m \u001b[1m0s\u001b[0m 8ms/step - accuracy: 0.9354 - loss: 2.5037 - val_accuracy: 0.9286 - val_loss: 2.5911\n",
      "Epoch 24/100\n",
      "\u001b[1m25/25\u001b[0m \u001b[32m━━━━━━━━━━━━━━━━━━━━\u001b[0m\u001b[37m\u001b[0m \u001b[1m0s\u001b[0m 7ms/step - accuracy: 0.9109 - loss: 2.4814 - val_accuracy: 0.9286 - val_loss: 2.5644\n",
      "Epoch 25/100\n",
      "\u001b[1m25/25\u001b[0m \u001b[32m━━━━━━━━━━━━━━━━━━━━\u001b[0m\u001b[37m\u001b[0m \u001b[1m0s\u001b[0m 6ms/step - accuracy: 0.9168 - loss: 2.5015 - val_accuracy: 0.9286 - val_loss: 2.5339\n",
      "Epoch 26/100\n",
      "\u001b[1m25/25\u001b[0m \u001b[32m━━━━━━━━━━━━━━━━━━━━\u001b[0m\u001b[37m\u001b[0m \u001b[1m0s\u001b[0m 6ms/step - accuracy: 0.9343 - loss: 2.4022 - val_accuracy: 0.9286 - val_loss: 2.5171\n",
      "Epoch 27/100\n",
      "\u001b[1m25/25\u001b[0m \u001b[32m━━━━━━━━━━━━━━━━━━━━\u001b[0m\u001b[37m\u001b[0m \u001b[1m0s\u001b[0m 6ms/step - accuracy: 0.9298 - loss: 2.3948 - val_accuracy: 0.9286 - val_loss: 2.4933\n",
      "Epoch 28/100\n",
      "\u001b[1m25/25\u001b[0m \u001b[32m━━━━━━━━━━━━━━━━━━━━\u001b[0m\u001b[37m\u001b[0m \u001b[1m0s\u001b[0m 6ms/step - accuracy: 0.9284 - loss: 2.3612 - val_accuracy: 0.9286 - val_loss: 2.4864\n",
      "Epoch 29/100\n",
      "\u001b[1m25/25\u001b[0m \u001b[32m━━━━━━━━━━━━━━━━━━━━\u001b[0m\u001b[37m\u001b[0m \u001b[1m0s\u001b[0m 6ms/step - accuracy: 0.9737 - loss: 2.2673 - val_accuracy: 0.9286 - val_loss: 2.4709\n",
      "Epoch 30/100\n",
      "\u001b[1m25/25\u001b[0m \u001b[32m━━━━━━━━━━━━━━━━━━━━\u001b[0m\u001b[37m\u001b[0m \u001b[1m0s\u001b[0m 6ms/step - accuracy: 0.9353 - loss: 2.3183 - val_accuracy: 0.9286 - val_loss: 2.4395\n",
      "Epoch 31/100\n",
      "\u001b[1m25/25\u001b[0m \u001b[32m━━━━━━━━━━━━━━━━━━━━\u001b[0m\u001b[37m\u001b[0m \u001b[1m0s\u001b[0m 9ms/step - accuracy: 0.9242 - loss: 2.3568 - val_accuracy: 0.9286 - val_loss: 2.4125\n",
      "Epoch 32/100\n",
      "\u001b[1m25/25\u001b[0m \u001b[32m━━━━━━━━━━━━━━━━━━━━\u001b[0m\u001b[37m\u001b[0m \u001b[1m0s\u001b[0m 6ms/step - accuracy: 0.9388 - loss: 2.2783 - val_accuracy: 0.9286 - val_loss: 2.3892\n",
      "Epoch 33/100\n",
      "\u001b[1m25/25\u001b[0m \u001b[32m━━━━━━━━━━━━━━━━━━━━\u001b[0m\u001b[37m\u001b[0m \u001b[1m0s\u001b[0m 5ms/step - accuracy: 0.9069 - loss: 2.2877 - val_accuracy: 0.9286 - val_loss: 2.3334\n",
      "Epoch 34/100\n",
      "\u001b[1m25/25\u001b[0m \u001b[32m━━━━━━━━━━━━━━━━━━━━\u001b[0m\u001b[37m\u001b[0m \u001b[1m0s\u001b[0m 5ms/step - accuracy: 0.9633 - loss: 2.1431 - val_accuracy: 0.9286 - val_loss: 2.3183\n",
      "Epoch 35/100\n",
      "\u001b[1m25/25\u001b[0m \u001b[32m━━━━━━━━━━━━━━━━━━━━\u001b[0m\u001b[37m\u001b[0m \u001b[1m0s\u001b[0m 6ms/step - accuracy: 0.9340 - loss: 2.1601 - val_accuracy: 0.9286 - val_loss: 2.2816\n",
      "Epoch 36/100\n",
      "\u001b[1m25/25\u001b[0m \u001b[32m━━━━━━━━━━━━━━━━━━━━\u001b[0m\u001b[37m\u001b[0m \u001b[1m0s\u001b[0m 6ms/step - accuracy: 0.9318 - loss: 2.1188 - val_accuracy: 0.9286 - val_loss: 2.2630\n",
      "Epoch 37/100\n",
      "\u001b[1m25/25\u001b[0m \u001b[32m━━━━━━━━━━━━━━━━━━━━\u001b[0m\u001b[37m\u001b[0m \u001b[1m0s\u001b[0m 6ms/step - accuracy: 0.9488 - loss: 2.0764 - val_accuracy: 0.9286 - val_loss: 2.2343\n",
      "Epoch 38/100\n",
      "\u001b[1m25/25\u001b[0m \u001b[32m━━━━━━━━━━━━━━━━━━━━\u001b[0m\u001b[37m\u001b[0m \u001b[1m0s\u001b[0m 6ms/step - accuracy: 0.9419 - loss: 2.0428 - val_accuracy: 0.9286 - val_loss: 2.2188\n",
      "Epoch 39/100\n",
      "\u001b[1m25/25\u001b[0m \u001b[32m━━━━━━━━━━━━━━━━━━━━\u001b[0m\u001b[37m\u001b[0m \u001b[1m0s\u001b[0m 7ms/step - accuracy: 0.9321 - loss: 2.0500 - val_accuracy: 0.9286 - val_loss: 2.1937\n",
      "Epoch 40/100\n",
      "\u001b[1m25/25\u001b[0m \u001b[32m━━━━━━━━━━━━━━━━━━━━\u001b[0m\u001b[37m\u001b[0m \u001b[1m0s\u001b[0m 6ms/step - accuracy: 0.9347 - loss: 2.0241 - val_accuracy: 0.9286 - val_loss: 2.1549\n",
      "Epoch 41/100\n",
      "\u001b[1m25/25\u001b[0m \u001b[32m━━━━━━━━━━━━━━━━━━━━\u001b[0m\u001b[37m\u001b[0m \u001b[1m0s\u001b[0m 6ms/step - accuracy: 0.9506 - loss: 1.9709 - val_accuracy: 0.9286 - val_loss: 2.1282\n",
      "Epoch 42/100\n",
      "\u001b[1m25/25\u001b[0m \u001b[32m━━━━━━━━━━━━━━━━━━━━\u001b[0m\u001b[37m\u001b[0m \u001b[1m0s\u001b[0m 6ms/step - accuracy: 0.9612 - loss: 1.9333 - val_accuracy: 0.9286 - val_loss: 2.1006\n",
      "Epoch 43/100\n",
      "\u001b[1m25/25\u001b[0m \u001b[32m━━━━━━━━━━━━━━━━━━━━\u001b[0m\u001b[37m\u001b[0m \u001b[1m0s\u001b[0m 7ms/step - accuracy: 0.9461 - loss: 1.9184 - val_accuracy: 0.9286 - val_loss: 2.0972\n",
      "Epoch 44/100\n",
      "\u001b[1m25/25\u001b[0m \u001b[32m━━━━━━━━━━━━━━━━━━━━\u001b[0m\u001b[37m\u001b[0m \u001b[1m0s\u001b[0m 8ms/step - accuracy: 0.9506 - loss: 1.9285 - val_accuracy: 0.9286 - val_loss: 2.0782\n",
      "Epoch 45/100\n",
      "\u001b[1m25/25\u001b[0m \u001b[32m━━━━━━━━━━━━━━━━━━━━\u001b[0m\u001b[37m\u001b[0m \u001b[1m0s\u001b[0m 6ms/step - accuracy: 0.9664 - loss: 1.8781 - val_accuracy: 0.9286 - val_loss: 2.0460\n",
      "Epoch 46/100\n",
      "\u001b[1m25/25\u001b[0m \u001b[32m━━━━━━━━━━━━━━━━━━━━\u001b[0m\u001b[37m\u001b[0m \u001b[1m0s\u001b[0m 6ms/step - accuracy: 0.9625 - loss: 1.8384 - val_accuracy: 0.9286 - val_loss: 2.0219\n",
      "Epoch 47/100\n",
      "\u001b[1m25/25\u001b[0m \u001b[32m━━━━━━━━━━━━━━━━━━━━\u001b[0m\u001b[37m\u001b[0m \u001b[1m0s\u001b[0m 5ms/step - accuracy: 0.9581 - loss: 1.8033 - val_accuracy: 0.9286 - val_loss: 1.9941\n",
      "Epoch 48/100\n",
      "\u001b[1m25/25\u001b[0m \u001b[32m━━━━━━━━━━━━━━━━━━━━\u001b[0m\u001b[37m\u001b[0m \u001b[1m0s\u001b[0m 6ms/step - accuracy: 0.9411 - loss: 1.8346 - val_accuracy: 0.9286 - val_loss: 1.9617\n",
      "Epoch 49/100\n",
      "\u001b[1m25/25\u001b[0m \u001b[32m━━━━━━━━━━━━━━━━━━━━\u001b[0m\u001b[37m\u001b[0m \u001b[1m0s\u001b[0m 6ms/step - accuracy: 0.9665 - loss: 1.7595 - val_accuracy: 0.9286 - val_loss: 1.9341\n",
      "Epoch 50/100\n",
      "\u001b[1m25/25\u001b[0m \u001b[32m━━━━━━━━━━━━━━━━━━━━\u001b[0m\u001b[37m\u001b[0m \u001b[1m0s\u001b[0m 5ms/step - accuracy: 0.9823 - loss: 1.6747 - val_accuracy: 0.9286 - val_loss: 1.9043\n",
      "Epoch 51/100\n",
      "\u001b[1m25/25\u001b[0m \u001b[32m━━━━━━━━━━━━━━━━━━━━\u001b[0m\u001b[37m\u001b[0m \u001b[1m0s\u001b[0m 6ms/step - accuracy: 0.9530 - loss: 1.7382 - val_accuracy: 0.9286 - val_loss: 1.8844\n",
      "Epoch 52/100\n",
      "\u001b[1m25/25\u001b[0m \u001b[32m━━━━━━━━━━━━━━━━━━━━\u001b[0m\u001b[37m\u001b[0m \u001b[1m0s\u001b[0m 6ms/step - accuracy: 0.9790 - loss: 1.6610 - val_accuracy: 0.9286 - val_loss: 1.8799\n",
      "Epoch 53/100\n",
      "\u001b[1m25/25\u001b[0m \u001b[32m━━━━━━━━━━━━━━━━━━━━\u001b[0m\u001b[37m\u001b[0m \u001b[1m0s\u001b[0m 6ms/step - accuracy: 0.9406 - loss: 1.7175 - val_accuracy: 0.9286 - val_loss: 1.8727\n",
      "Epoch 54/100\n",
      "\u001b[1m25/25\u001b[0m \u001b[32m━━━━━━━━━━━━━━━━━━━━\u001b[0m\u001b[37m\u001b[0m \u001b[1m0s\u001b[0m 6ms/step - accuracy: 0.9594 - loss: 1.6388 - val_accuracy: 0.9286 - val_loss: 1.8619\n",
      "Epoch 55/100\n",
      "\u001b[1m25/25\u001b[0m \u001b[32m━━━━━━━━━━━━━━━━━━━━\u001b[0m\u001b[37m\u001b[0m \u001b[1m0s\u001b[0m 5ms/step - accuracy: 0.9449 - loss: 1.6175 - val_accuracy: 0.9286 - val_loss: 1.8406\n",
      "Epoch 56/100\n",
      "\u001b[1m25/25\u001b[0m \u001b[32m━━━━━━━━━━━━━━━━━━━━\u001b[0m\u001b[37m\u001b[0m \u001b[1m0s\u001b[0m 5ms/step - accuracy: 0.9370 - loss: 1.6141 - val_accuracy: 0.9286 - val_loss: 1.8346\n",
      "Epoch 57/100\n",
      "\u001b[1m25/25\u001b[0m \u001b[32m━━━━━━━━━━━━━━━━━━━━\u001b[0m\u001b[37m\u001b[0m \u001b[1m0s\u001b[0m 5ms/step - accuracy: 0.9468 - loss: 1.6068 - val_accuracy: 0.9286 - val_loss: 1.8153\n",
      "Epoch 58/100\n",
      "\u001b[1m25/25\u001b[0m \u001b[32m━━━━━━━━━━━━━━━━━━━━\u001b[0m\u001b[37m\u001b[0m \u001b[1m0s\u001b[0m 6ms/step - accuracy: 0.9743 - loss: 1.5177 - val_accuracy: 0.9286 - val_loss: 1.7929\n",
      "Epoch 59/100\n",
      "\u001b[1m25/25\u001b[0m \u001b[32m━━━━━━━━━━━━━━━━━━━━\u001b[0m\u001b[37m\u001b[0m \u001b[1m0s\u001b[0m 6ms/step - accuracy: 0.9683 - loss: 1.5176 - val_accuracy: 0.9286 - val_loss: 1.7553\n",
      "Epoch 60/100\n",
      "\u001b[1m25/25\u001b[0m \u001b[32m━━━━━━━━━━━━━━━━━━━━\u001b[0m\u001b[37m\u001b[0m \u001b[1m0s\u001b[0m 8ms/step - accuracy: 0.9351 - loss: 1.5823 - val_accuracy: 0.9286 - val_loss: 1.7392\n",
      "Epoch 61/100\n",
      "\u001b[1m25/25\u001b[0m \u001b[32m━━━━━━━━━━━━━━━━━━━━\u001b[0m\u001b[37m\u001b[0m \u001b[1m0s\u001b[0m 6ms/step - accuracy: 0.9554 - loss: 1.5353 - val_accuracy: 0.9286 - val_loss: 1.7032\n",
      "Epoch 62/100\n",
      "\u001b[1m25/25\u001b[0m \u001b[32m━━━━━━━━━━━━━━━━━━━━\u001b[0m\u001b[37m\u001b[0m \u001b[1m0s\u001b[0m 6ms/step - accuracy: 0.9670 - loss: 1.4532 - val_accuracy: 0.9286 - val_loss: 1.6676\n",
      "Epoch 63/100\n",
      "\u001b[1m25/25\u001b[0m \u001b[32m━━━━━━━━━━━━━━━━━━━━\u001b[0m\u001b[37m\u001b[0m \u001b[1m0s\u001b[0m 5ms/step - accuracy: 0.9528 - loss: 1.4692 - val_accuracy: 0.9286 - val_loss: 1.6399\n",
      "Epoch 64/100\n",
      "\u001b[1m25/25\u001b[0m \u001b[32m━━━━━━━━━━━━━━━━━━━━\u001b[0m\u001b[37m\u001b[0m \u001b[1m0s\u001b[0m 6ms/step - accuracy: 0.9726 - loss: 1.4038 - val_accuracy: 0.9286 - val_loss: 1.6308\n",
      "Epoch 65/100\n",
      "\u001b[1m25/25\u001b[0m \u001b[32m━━━━━━━━━━━━━━━━━━━━\u001b[0m\u001b[37m\u001b[0m \u001b[1m0s\u001b[0m 5ms/step - accuracy: 0.9547 - loss: 1.4443 - val_accuracy: 0.9286 - val_loss: 1.6165\n",
      "Epoch 66/100\n",
      "\u001b[1m25/25\u001b[0m \u001b[32m━━━━━━━━━━━━━━━━━━━━\u001b[0m\u001b[37m\u001b[0m \u001b[1m0s\u001b[0m 5ms/step - accuracy: 0.9855 - loss: 1.3466 - val_accuracy: 0.9286 - val_loss: 1.5954\n",
      "Epoch 67/100\n",
      "\u001b[1m25/25\u001b[0m \u001b[32m━━━━━━━━━━━━━━━━━━━━\u001b[0m\u001b[37m\u001b[0m \u001b[1m0s\u001b[0m 6ms/step - accuracy: 0.9683 - loss: 1.3492 - val_accuracy: 0.9464 - val_loss: 1.5840\n",
      "Epoch 68/100\n",
      "\u001b[1m25/25\u001b[0m \u001b[32m━━━━━━━━━━━━━━━━━━━━\u001b[0m\u001b[37m\u001b[0m \u001b[1m0s\u001b[0m 6ms/step - accuracy: 0.9715 - loss: 1.3291 - val_accuracy: 0.9464 - val_loss: 1.5668\n",
      "Epoch 69/100\n",
      "\u001b[1m25/25\u001b[0m \u001b[32m━━━━━━━━━━━━━━━━━━━━\u001b[0m\u001b[37m\u001b[0m \u001b[1m0s\u001b[0m 6ms/step - accuracy: 0.9474 - loss: 1.3389 - val_accuracy: 0.9464 - val_loss: 1.5556\n",
      "Epoch 70/100\n",
      "\u001b[1m25/25\u001b[0m \u001b[32m━━━━━━━━━━━━━━━━━━━━\u001b[0m\u001b[37m\u001b[0m \u001b[1m0s\u001b[0m 5ms/step - accuracy: 0.9592 - loss: 1.3231 - val_accuracy: 0.9464 - val_loss: 1.5241\n",
      "Epoch 71/100\n",
      "\u001b[1m25/25\u001b[0m \u001b[32m━━━━━━━━━━━━━━━━━━━━\u001b[0m\u001b[37m\u001b[0m \u001b[1m0s\u001b[0m 5ms/step - accuracy: 0.9642 - loss: 1.2829 - val_accuracy: 0.9464 - val_loss: 1.5126\n",
      "Epoch 72/100\n",
      "\u001b[1m25/25\u001b[0m \u001b[32m━━━━━━━━━━━━━━━━━━━━\u001b[0m\u001b[37m\u001b[0m \u001b[1m0s\u001b[0m 5ms/step - accuracy: 0.9578 - loss: 1.2795 - val_accuracy: 0.9286 - val_loss: 1.4550\n",
      "Epoch 73/100\n",
      "\u001b[1m25/25\u001b[0m \u001b[32m━━━━━━━━━━━━━━━━━━━━\u001b[0m\u001b[37m\u001b[0m \u001b[1m0s\u001b[0m 5ms/step - accuracy: 0.9657 - loss: 1.2390 - val_accuracy: 0.9286 - val_loss: 1.4388\n",
      "Epoch 74/100\n",
      "\u001b[1m25/25\u001b[0m \u001b[32m━━━━━━━━━━━━━━━━━━━━\u001b[0m\u001b[37m\u001b[0m \u001b[1m0s\u001b[0m 5ms/step - accuracy: 0.9745 - loss: 1.1961 - val_accuracy: 0.9286 - val_loss: 1.4445\n",
      "Epoch 75/100\n",
      "\u001b[1m25/25\u001b[0m \u001b[32m━━━━━━━━━━━━━━━━━━━━\u001b[0m\u001b[37m\u001b[0m \u001b[1m0s\u001b[0m 5ms/step - accuracy: 0.9674 - loss: 1.2079 - val_accuracy: 0.9286 - val_loss: 1.4135\n",
      "Epoch 76/100\n",
      "\u001b[1m25/25\u001b[0m \u001b[32m━━━━━━━━━━━━━━━━━━━━\u001b[0m\u001b[37m\u001b[0m \u001b[1m0s\u001b[0m 5ms/step - accuracy: 0.9664 - loss: 1.1740 - val_accuracy: 0.9464 - val_loss: 1.3978\n",
      "Epoch 77/100\n",
      "\u001b[1m25/25\u001b[0m \u001b[32m━━━━━━━━━━━━━━━━━━━━\u001b[0m\u001b[37m\u001b[0m \u001b[1m0s\u001b[0m 5ms/step - accuracy: 0.9463 - loss: 1.2006 - val_accuracy: 0.9464 - val_loss: 1.3600\n",
      "Epoch 78/100\n",
      "\u001b[1m25/25\u001b[0m \u001b[32m━━━━━━━━━━━━━━━━━━━━\u001b[0m\u001b[37m\u001b[0m \u001b[1m0s\u001b[0m 5ms/step - accuracy: 0.9734 - loss: 1.1313 - val_accuracy: 0.9464 - val_loss: 1.3399\n",
      "Epoch 79/100\n",
      "\u001b[1m25/25\u001b[0m \u001b[32m━━━━━━━━━━━━━━━━━━━━\u001b[0m\u001b[37m\u001b[0m \u001b[1m0s\u001b[0m 6ms/step - accuracy: 0.9655 - loss: 1.1267 - val_accuracy: 0.9464 - val_loss: 1.3296\n",
      "Epoch 80/100\n",
      "\u001b[1m25/25\u001b[0m \u001b[32m━━━━━━━━━━━━━━━━━━━━\u001b[0m\u001b[37m\u001b[0m \u001b[1m0s\u001b[0m 5ms/step - accuracy: 0.9585 - loss: 1.1409 - val_accuracy: 0.9464 - val_loss: 1.2857\n",
      "Epoch 81/100\n",
      "\u001b[1m25/25\u001b[0m \u001b[32m━━━━━━━━━━━━━━━━━━━━\u001b[0m\u001b[37m\u001b[0m \u001b[1m0s\u001b[0m 5ms/step - accuracy: 0.9621 - loss: 1.1111 - val_accuracy: 0.9464 - val_loss: 1.3010\n",
      "Epoch 82/100\n",
      "\u001b[1m25/25\u001b[0m \u001b[32m━━━━━━━━━━━━━━━━━━━━\u001b[0m\u001b[37m\u001b[0m \u001b[1m0s\u001b[0m 5ms/step - accuracy: 0.9812 - loss: 1.0724 - val_accuracy: 0.9464 - val_loss: 1.2949\n",
      "Epoch 83/100\n",
      "\u001b[1m25/25\u001b[0m \u001b[32m━━━━━━━━━━━━━━━━━━━━\u001b[0m\u001b[37m\u001b[0m \u001b[1m0s\u001b[0m 6ms/step - accuracy: 0.9530 - loss: 1.0848 - val_accuracy: 0.9464 - val_loss: 1.2756\n",
      "Epoch 84/100\n",
      "\u001b[1m25/25\u001b[0m \u001b[32m━━━━━━━━━━━━━━━━━━━━\u001b[0m\u001b[37m\u001b[0m \u001b[1m0s\u001b[0m 6ms/step - accuracy: 0.9748 - loss: 1.0451 - val_accuracy: 0.9464 - val_loss: 1.2787\n",
      "Epoch 85/100\n",
      "\u001b[1m25/25\u001b[0m \u001b[32m━━━━━━━━━━━━━━━━━━━━\u001b[0m\u001b[37m\u001b[0m \u001b[1m0s\u001b[0m 8ms/step - accuracy: 0.9828 - loss: 1.0261 - val_accuracy: 0.9286 - val_loss: 1.2632\n",
      "Epoch 86/100\n",
      "\u001b[1m25/25\u001b[0m \u001b[32m━━━━━━━━━━━━━━━━━━━━\u001b[0m\u001b[37m\u001b[0m \u001b[1m0s\u001b[0m 6ms/step - accuracy: 0.9731 - loss: 1.0223 - val_accuracy: 0.9286 - val_loss: 1.2321\n",
      "Epoch 87/100\n",
      "\u001b[1m25/25\u001b[0m \u001b[32m━━━━━━━━━━━━━━━━━━━━\u001b[0m\u001b[37m\u001b[0m \u001b[1m0s\u001b[0m 6ms/step - accuracy: 0.9709 - loss: 1.0249 - val_accuracy: 0.9286 - val_loss: 1.2399\n",
      "Epoch 88/100\n",
      "\u001b[1m25/25\u001b[0m \u001b[32m━━━━━━━━━━━━━━━━━━━━\u001b[0m\u001b[37m\u001b[0m \u001b[1m0s\u001b[0m 6ms/step - accuracy: 0.9669 - loss: 0.9962 - val_accuracy: 0.9286 - val_loss: 1.2473\n",
      "Epoch 89/100\n",
      "\u001b[1m25/25\u001b[0m \u001b[32m━━━━━━━━━━━━━━━━━━━━\u001b[0m\u001b[37m\u001b[0m \u001b[1m0s\u001b[0m 6ms/step - accuracy: 0.9693 - loss: 0.9751 - val_accuracy: 0.9286 - val_loss: 1.2250\n",
      "Epoch 90/100\n",
      "\u001b[1m25/25\u001b[0m \u001b[32m━━━━━━━━━━━━━━━━━━━━\u001b[0m\u001b[37m\u001b[0m \u001b[1m0s\u001b[0m 6ms/step - accuracy: 0.9554 - loss: 0.9935 - val_accuracy: 0.9286 - val_loss: 1.1883\n",
      "Epoch 91/100\n",
      "\u001b[1m25/25\u001b[0m \u001b[32m━━━━━━━━━━━━━━━━━━━━\u001b[0m\u001b[37m\u001b[0m \u001b[1m0s\u001b[0m 6ms/step - accuracy: 0.9589 - loss: 0.9965 - val_accuracy: 0.9464 - val_loss: 1.2000\n",
      "Epoch 92/100\n",
      "\u001b[1m25/25\u001b[0m \u001b[32m━━━━━━━━━━━━━━━━━━━━\u001b[0m\u001b[37m\u001b[0m \u001b[1m0s\u001b[0m 6ms/step - accuracy: 0.9729 - loss: 0.9325 - val_accuracy: 0.9464 - val_loss: 1.2026\n",
      "Epoch 93/100\n",
      "\u001b[1m25/25\u001b[0m \u001b[32m━━━━━━━━━━━━━━━━━━━━\u001b[0m\u001b[37m\u001b[0m \u001b[1m0s\u001b[0m 5ms/step - accuracy: 0.9826 - loss: 0.8967 - val_accuracy: 0.9464 - val_loss: 1.1609\n",
      "Epoch 94/100\n",
      "\u001b[1m25/25\u001b[0m \u001b[32m━━━━━━━━━━━━━━━━━━━━\u001b[0m\u001b[37m\u001b[0m \u001b[1m0s\u001b[0m 7ms/step - accuracy: 0.9815 - loss: 0.8822 - val_accuracy: 0.9464 - val_loss: 1.1328\n",
      "Epoch 95/100\n",
      "\u001b[1m25/25\u001b[0m \u001b[32m━━━━━━━━━━━━━━━━━━━━\u001b[0m\u001b[37m\u001b[0m \u001b[1m0s\u001b[0m 6ms/step - accuracy: 0.9815 - loss: 0.8872 - val_accuracy: 0.9464 - val_loss: 1.1208\n",
      "Epoch 96/100\n",
      "\u001b[1m25/25\u001b[0m \u001b[32m━━━━━━━━━━━━━━━━━━━━\u001b[0m\u001b[37m\u001b[0m \u001b[1m0s\u001b[0m 6ms/step - accuracy: 0.9801 - loss: 0.8658 - val_accuracy: 0.9464 - val_loss: 1.1279\n",
      "Epoch 97/100\n",
      "\u001b[1m25/25\u001b[0m \u001b[32m━━━━━━━━━━━━━━━━━━━━\u001b[0m\u001b[37m\u001b[0m \u001b[1m0s\u001b[0m 5ms/step - accuracy: 0.9771 - loss: 0.8647 - val_accuracy: 0.9464 - val_loss: 1.1599\n",
      "Epoch 98/100\n",
      "\u001b[1m25/25\u001b[0m \u001b[32m━━━━━━━━━━━━━━━━━━━━\u001b[0m\u001b[37m\u001b[0m \u001b[1m0s\u001b[0m 5ms/step - accuracy: 0.9921 - loss: 0.8270 - val_accuracy: 0.9464 - val_loss: 1.1512\n",
      "Epoch 99/100\n",
      "\u001b[1m25/25\u001b[0m \u001b[32m━━━━━━━━━━━━━━━━━━━━\u001b[0m\u001b[37m\u001b[0m \u001b[1m0s\u001b[0m 5ms/step - accuracy: 0.9772 - loss: 0.8362 - val_accuracy: 0.9464 - val_loss: 1.1636\n",
      "Epoch 100/100\n",
      "\u001b[1m25/25\u001b[0m \u001b[32m━━━━━━━━━━━━━━━━━━━━\u001b[0m\u001b[37m\u001b[0m \u001b[1m0s\u001b[0m 4ms/step - accuracy: 0.9707 - loss: 0.8193 - val_accuracy: 0.9464 - val_loss: 1.1329\n"
     ]
    }
   ],
   "source": [
    "# history = model.fit(X_train_scaled, y_train_balanced, \n",
    "#                     epochs=50, \n",
    "#                     batch_size=32, \n",
    "#                     validation_data=(X_val, y_val),verbose=1)  # Use validation set\n",
    "\n",
    "from tensorflow.keras.callbacks import EarlyStopping\n",
    "\n",
    "early_stop = EarlyStopping(monitor='val_loss', patience=10, restore_best_weights=True)\n",
    "\n",
    "history = model.fit(\n",
    "    X_train_scaled, y_train_balanced,\n",
    "    validation_data=(X_val_scaled, y_val),\n",
    "    epochs=100,\n",
    "    batch_size=16,\n",
    "    callbacks=[early_stop],  # Stop training when validation loss stops improving\n",
    "    verbose=1\n",
    ")\n"
   ]
  },
  {
   "cell_type": "code",
   "execution_count": 56,
   "id": "5f71fdc1-a47b-4779-8a15-c5b776a3a542",
   "metadata": {},
   "outputs": [
    {
     "name": "stdout",
     "output_type": "stream",
     "text": [
      "Final Training Accuracy: 0.9749\n",
      "Final Validation Accuracy: 0.9464\n"
     ]
    }
   ],
   "source": [
    "\n",
    "# Get training accuracy\n",
    "train_accuracy = history.history['accuracy'][-1]  # Last epoch training accuracy\n",
    "val_accuracy = history.history['val_accuracy'][-1]  # Last epoch validation accuracy\n",
    "\n",
    "print(f\"Final Training Accuracy: {train_accuracy:.4f}\")\n",
    "print(f\"Final Validation Accuracy: {val_accuracy:.4f}\")"
   ]
  },
  {
   "cell_type": "code",
   "execution_count": 63,
   "id": "c5ae8dc9-a8d2-45ad-8e39-1fa668b7d6c2",
   "metadata": {},
   "outputs": [
    {
     "name": "stdout",
     "output_type": "stream",
     "text": [
      "\u001b[1m2/2\u001b[0m \u001b[32m━━━━━━━━━━━━━━━━━━━━\u001b[0m\u001b[37m\u001b[0m \u001b[1m0s\u001b[0m 34ms/step\n",
      "Test Accuracy: 0.9642857142857143\n",
      "              precision    recall  f1-score   support\n",
      "\n",
      "           0       1.00      0.67      0.80         6\n",
      "           1       1.00      1.00      1.00        22\n",
      "           2       0.93      1.00      0.97        28\n",
      "\n",
      "    accuracy                           0.96        56\n",
      "   macro avg       0.98      0.89      0.92        56\n",
      "weighted avg       0.97      0.96      0.96        56\n",
      "\n"
     ]
    }
   ],
   "source": [
    "# Predict on test set\n",
    "y_pred_prob = model.predict(X_test_scaled)\n",
    "y_pred = y_pred_prob.argmax(axis=1)  # Convert probabilities to class labels\n",
    "\n",
    "# Evaluate accuracy\n",
    "print(\"Test Accuracy:\", accuracy_score(y_test, y_pred))\n",
    "print(classification_report(y_test, y_pred))"
   ]
  },
  {
   "cell_type": "code",
   "execution_count": 68,
   "id": "2c21ded1-8960-4f2c-8667-7b9342ab6a00",
   "metadata": {
    "scrolled": true
   },
   "outputs": [
    {
     "data": {
      "text/plain": [
       "array([[ 0.4385987 , -0.98260737, -1.84059039, -0.98501669,  1.66243084,\n",
       "        -2.96886013,  0.55560119,  0.26221202, -0.73324731, -0.36894114,\n",
       "         0.46235078, -2.58670263, -0.5624773 ,  0.44313263, -2.21385796],\n",
       "       [-0.16892966,  1.01770049, -0.72236341, -0.98501669,  1.66243084,\n",
       "        -0.4084232 ,  0.55560119, -0.15586634,  0.99508301,  0.04872074,\n",
       "         0.46235078, -1.07632229, -0.5624773 ,  0.44313263, -0.93986047],\n",
       "       [-0.93379229, -0.98260737, -1.14169853,  0.51649872,  1.66243084,\n",
       "        -0.4084232 ,  0.55560119,  1.93452548,  0.54810103, -1.72064683,\n",
       "         0.13701747,  0.19856585, -0.21804548,  1.06781293,  0.48113672],\n",
       "       [ 2.06802093, -0.98260737, -0.02347156,  2.01801414, -0.23920857,\n",
       "         0.44505578, -0.8927998 ,  2.11629868,  0.30971064, -1.84214846,\n",
       "        -0.15772895,  0.66642426, -0.5624773 ,  0.23490586,  0.23613721],\n",
       "       [-0.93379229, -0.98260737, -1.00192016,  0.51649872, -0.23920857,\n",
       "         0.16056279,  0.55560119, -0.72542238,  0.72689383,  0.67901047,\n",
       "         0.13701747,  0.19856585, -0.21804548,  0.13079247, -0.84186067],\n",
       "       [ 1.16140168, -0.98260737, -0.3030283 ,  1.26725643, -0.23920857,\n",
       "         0.72954878, -0.8927998 ,  0.44398522,  1.02488181, -0.53600588,\n",
       "         1.08243052, -0.37922367, -0.5624773 ,  0.75547278,  0.28513711],\n",
       "       [ 0.10212145, -0.98260737, -1.14169853, -0.23425898,  0.71161113,\n",
       "         0.16056279, -0.8927998 ,  0.20162095,  1.3824674 , -0.31578417,\n",
       "         1.70251025,  0.31787495, -0.5624773 ,  1.69249324,  0.23613721],\n",
       "       [-0.1985272 , -0.98260737, -1.00192016,  0.51649872,  0.71161113,\n",
       "        -0.1239302 ,  0.55560119,  0.01378864,  0.78649142, -0.12593786,\n",
       "        -0.77780869,  1.36352288, -0.5624773 , -0.80622799,  1.11813546],\n",
       "       [ 0.07408168,  1.01770049, -0.58258504, -1.36039555,  1.66243084,\n",
       "         0.72954878, -0.8927998 ,  0.2440347 , -0.55445452, -0.35375343,\n",
       "         0.46235078, -1.19250539, -0.5624773 ,  0.44313263, -1.03786028],\n",
       "       [-0.93379229,  1.01770049,  0.53564193,  0.51649872,  0.71161113,\n",
       "         0.44505578, -0.8927998 ,  0.04408418,  1.08447941, -0.15631327,\n",
       "         0.13701747,  0.19856585, -0.21804548, -0.18154768, -0.54786125],\n",
       "       [-0.23902909,  1.01770049,  1.37431216, -0.98501669,  0.71161113,\n",
       "         0.72954878, -0.8927998 , -0.19222098, -0.13727134,  0.08669   ,\n",
       "         0.46235078,  1.36352288, -0.5624773 , -0.18154768, -0.05786221],\n",
       "       [ 1.15361285,  1.01770049,  0.95497705, -0.98501669, -0.23920857,\n",
       "         0.72954878, -0.8927998 ,  0.62575842,  0.45870464, -0.70307063,\n",
       "         1.08243052, -0.84395608, -0.5624773 ,  0.44313263,  0.23613721],\n",
       "       [-0.93379229,  1.01770049, -1.70081202,  1.26725643, -0.23920857,\n",
       "         0.72954878, -0.8927998 ,  0.16526631,  0.04152145, -0.27781491,\n",
       "         0.13701747,  0.19856585, -0.21804548,  0.44313263,  0.67713633],\n",
       "       [ 0.25634019, -0.98260737,  0.25608519, -0.23425898,  0.71161113,\n",
       "         0.44505578,  0.55560119, -0.9253729 , -0.85244251,  0.92960759,\n",
       "         2.32258998, -0.03067436, -0.5624773 ,  0.13079247,  0.43213682],\n",
       "       [-0.93379229,  1.01770049, -0.3030283 ,  0.51649872,  0.71161113,\n",
       "        -0.4084232 ,  0.55560119, -0.51941275, -0.55445452,  0.44360105,\n",
       "         0.13701747,  0.19856585, -0.21804548,  0.13079247,  0.1381374 ],\n",
       "       [-0.93379229,  1.01770049, -1.70081202, -0.98501669,  0.71161113,\n",
       "         0.72954878,  0.55560119, -0.18010277,  1.3526686 ,  0.07150229,\n",
       "         0.13701747,  0.19856585, -0.21804548, -0.18154768, -0.64586105],\n",
       "       [ 1.48853233, -0.98260737, -1.98036876, -0.98501669,  1.66243084,\n",
       "         0.72954878, -0.8927998 , -0.64665399,  2.09763857,  0.58788424,\n",
       "         0.46235078,  1.13115668, -0.5624773 ,  0.44313263,  0.43213682],\n",
       "       [ 0.44171423, -0.98260737,  0.11630682,  1.26725643, -1.19002828,\n",
       "        -0.1239302 ,  0.55560119,  0.55910825,  1.71025418, -0.64991367,\n",
       "         1.70251025,  1.24733978, -0.5624773 ,  1.69249324,  1.02013566],\n",
       "       [-0.93379229,  1.01770049, -0.16324993, -1.36039555,  1.66243084,\n",
       "         0.44505578, -0.8927998 ,  0.64393574,  1.59105899, -0.72585219,\n",
       "         0.13701747,  0.19856585, -0.21804548,  0.75547278,  0.1871373 ],\n",
       "       [-0.22189367, -0.98260737,  1.37431216, -0.23425898, -0.23920857,\n",
       "         0.72954878, -0.8927998 ,  3.19481968, -1.26962569, -2.4876259 ,\n",
       "         2.32258998, -0.49540677, -0.5624773 ,  2.31717355, -0.44986144],\n",
       "       [-0.16581413, -0.98260737, -0.16324993,  0.51649872,  0.71161113,\n",
       "         0.72954878, -0.8927998 ,  2.07994404,  1.3228698 , -1.81936691,\n",
       "         0.46235078,  1.13115668, -0.5624773 ,  0.44313263, -0.20486192],\n",
       "       [ 1.32029371,  1.01770049,  2.07320402, -0.23425898, -0.23920857,\n",
       "         0.72954878, -0.8927998 ,  0.0683206 ,  0.33950944, -0.18668868,\n",
       "         1.70251025, -0.03067436, -0.5624773 ,  0.75547278, -0.00886231],\n",
       "       [ 1.28134958,  1.01770049, -1.00192016, -0.23425898,  1.66243084,\n",
       "        -0.4084232 ,  0.55560119,  0.31674398,  1.91884578, -0.42969195,\n",
       "        -2.01796815,  0.55024116,  2.08608467, -2.0555886 ,  0.43213682],\n",
       "       [ 1.41843291, -0.98260737, -0.02347156,  1.26725643, -0.23920857,\n",
       "         0.72954878, -0.8927998 ,  0.04408418, -0.61405212, -0.15631327,\n",
       "         1.08243052, -2.70288574, -0.5624773 ,  1.06781293, -2.31185776],\n",
       "       [ 2.78303508, -0.98260737,  1.09475542,  0.89187758, -1.19002828,\n",
       "         0.72954878, -0.8927998 ,  1.47403337, -0.55445452, -1.39411118,\n",
       "         0.46235078,  1.36352288, -0.5624773 ,  0.75547278,  0.45663677],\n",
       "       [ 1.55551623,  1.01770049,  0.6754203 ,  0.51649872, -0.23920857,\n",
       "         0.44505578, -0.8927998 , -0.93143201, -0.16707014,  0.93720144,\n",
       "         0.46235078, -1.07632229, -0.5624773 ,  0.44313263, -0.44986144],\n",
       "       [-0.93379229, -0.98260737, -0.44280667,  0.51649872, -1.19002828,\n",
       "         0.72954878,  0.55560119,  2.51014062, -0.43525933, -2.09274559,\n",
       "         0.13701747,  0.19856585, -0.21804548, -0.18154768,  0.1381374 ],\n",
       "       [-0.93379229, -0.98260737,  0.11630682,  2.01801414, -1.19002828,\n",
       "        -0.4084232 ,  0.55560119,  0.43186701, -0.37566173, -0.52841203,\n",
       "         0.13701747,  0.19856585, -0.21804548,  0.44313263, -0.93986047],\n",
       "       [ 0.14262334,  1.01770049, -0.72236341,  1.26725643, -1.19002828,\n",
       "         0.72954878, -0.8927998 , -0.38005329,  0.45870464,  0.28413015,\n",
       "         0.46235078,  2.17680461, -0.5624773 ,  0.44313263,  1.80413411],\n",
       "       [-0.93379229, -0.98260737, -0.16324993,  1.26725643, -1.19002828,\n",
       "        -0.69291619,  0.55560119,  0.77117698,  1.71025418, -0.83216612,\n",
       "         0.13701747,  0.19856585, -0.21804548,  1.69249324,  1.02013566],\n",
       "       [ 1.22682781, -0.98260737,  1.09475542,  0.14111987,  0.71161113,\n",
       "         0.72954878,  0.55560119,  0.12891167, -1.26962569, -0.2474395 ,\n",
       "         1.08243052,  0.66642426, -0.5624773 ,  0.75547278,  0.62813643],\n",
       "       [-0.93379229, -0.98260737, -2.53948225, -0.98501669,  1.66243084,\n",
       "         0.72954878, -0.8927998 , -0.59212203,  2.45522415,  0.52713343,\n",
       "         0.13701747,  0.19856585, -0.21804548,  0.44313263,  0.43213682],\n",
       "       [-0.93379229,  1.01770049, -0.72236341, -1.36039555,  1.66243084,\n",
       "         0.72954878, -0.8927998 , -0.01044778,  0.07132025, -0.10315631,\n",
       "         0.13701747,  0.19856585, -0.21804548,  0.44313263, -1.03786028],\n",
       "       [ 0.29684208,  1.01770049, -1.42125527,  1.26725643, -0.23920857,\n",
       "         0.44505578, -0.8927998 , -1.71305677,  1.442065  ,  2.01552846,\n",
       "         0.46235078, -0.26304056, -0.5624773 ,  0.44313263,  0.28513711],\n",
       "       [-0.03651963, -0.98260737, -1.2814769 , -0.98501669, -0.23920857,\n",
       "        -0.97740918,  0.55560119,  0.01984775,  2.00824217, -0.13353172,\n",
       "        -1.39788842, -0.49540677, -0.5624773 , -1.43090829, -0.44986144],\n",
       "       [-0.93379229, -0.98260737, -1.98036876,  1.26725643, -0.23920857,\n",
       "        -1.54639517,  0.55560119,  0.4258079 ,  0.39910704, -0.52841203,\n",
       "         0.13701747,  0.19856585, -0.21804548, -0.18154768, -0.93986047],\n",
       "       [-0.93379229,  1.01770049,  0.6754203 , -0.60963784, -0.23920857,\n",
       "        -0.1239302 ,  2.00400217, -0.51941275, -0.55445452,  0.44360105,\n",
       "         0.13701747,  0.19856585, -0.21804548,  1.06781293,  0.04013759],\n",
       "       [ 0.03513756,  1.01770049, -0.72236341, -0.23425898, -0.23920857,\n",
       "         0.72954878, -0.8927998 , -0.12557081,  0.45870464,  0.01075148,\n",
       "         1.70251025, -0.72777298, -0.5624773 ,  1.69249324, -0.64586105],\n",
       "       [ 0.24076254,  1.01770049,  2.77209588,  0.89187758, -1.19002828,\n",
       "        -1.83088816,  4.90080414,  0.15920721, -1.89540046, -0.27022106,\n",
       "        -2.63804789, -1.4248716 ,  4.73464665, -2.68026891, -1.23385989],\n",
       "       [ 0.16754759, -0.98260737,  1.6538689 , -2.48653211,  1.66243084,\n",
       "        -1.26190217,  0.55560119,  1.15895982, -2.31258365, -1.15110791,\n",
       "        -0.77780869, -0.37922367, -0.5624773 , -0.80622799, -0.35186163],\n",
       "       [ 0.32332409,  1.01770049,  0.6754203 , -0.98501669, -0.23920857,\n",
       "        -1.26190217,  0.55560119,  0.04408418,  0.78649142, -0.15631327,\n",
       "        -2.01796815, -0.14685746, -0.5624773 , -2.0555886 , -0.15586202],\n",
       "       [ 0.65824357,  1.01770049, -1.42125527,  1.26725643, -0.23920857,\n",
       "         0.44505578, -0.8927998 , -1.13138253,  2.12743737,  1.19539242,\n",
       "        -0.15772895, -0.72777298, -0.5624773 , -0.18154768, -0.64586105],\n",
       "       [ 1.4854168 ,  1.01770049,  2.07320402,  1.26725643, -0.23920857,\n",
       "         0.44505578, -0.8927998 ,  1.61945193, -0.01807614, -1.50042511,\n",
       "        -0.15772895, -0.84395608, -0.5624773 ,  0.13079247, -0.10686212],\n",
       "       [ 0.39186575, -0.98260737,  0.39586356,  1.26725643, -1.19002828,\n",
       "         0.44505578,  0.55560119,  1.07413232, -0.10747254, -1.08276324,\n",
       "         0.46235078,  0.20169185,  2.08608467,  0.5993027 , -0.44986144],\n",
       "       [ 1.73465921,  1.01770049,  0.95497705,  0.14111987, -0.23920857,\n",
       "         0.72954878, -0.8927998 ,  0.0683206 ,  0.51830223, -0.17909483,\n",
       "         1.08243052,  0.08550875, -0.5624773 ,  1.06781293,  0.38313691],\n",
       "       [ 1.60692248,  1.01770049, -0.3030283 ,  1.26725643, -0.23920857,\n",
       "         0.72954878, -0.8927998 , -0.59212203,  0.99508301,  0.52713343,\n",
       "         0.46235078,  1.8282553 , -0.5624773 ,  0.44313263,  0.43213682],\n",
       "       [ 2.75655307,  1.01770049, -0.44280667, -0.60963784,  1.66243084,\n",
       "         0.44505578, -0.8927998 , -0.77389523,  1.62085779,  0.73976129,\n",
       "        -0.15772895,  1.8282553 , -0.5624773 ,  0.23490586,  0.66080303],\n",
       "       [ 0.67537899, -0.98260737,  0.25608519,  0.51649872, -1.19002828,\n",
       "         0.44505578, -0.8927998 ,  2.14053511,  0.01172266, -1.85733617,\n",
       "        -0.15772895, -0.14685746, -0.5624773 ,  0.44313263,  0.53013662],\n",
       "       [-0.93379229, -0.98260737, -1.42125527, -0.23425898,  1.66243084,\n",
       "        -1.83088816,  2.00400217, -0.87084094, -1.15043049,  0.86126292,\n",
       "         0.13701747,  0.19856585, -0.21804548,  0.75547278,  0.72613624],\n",
       "       [ 2.1848533 ,  1.01770049, -0.44280667,  0.51649872, -1.19002828,\n",
       "         0.72954878,  0.55560119, -0.34975776,  0.22031425,  0.24616089,\n",
       "         0.46235078,  2.29298771, -0.5624773 ,  0.44313263,  0.0891375 ],\n",
       "       [-0.0334041 ,  1.01770049,  1.23453379, -0.98501669,  1.66243084,\n",
       "        -1.83088816,  0.55560119, -1.3737468 , -2.13379085,  1.52952192,\n",
       "         0.46235078,  0.08550875, -0.5624773 ,  0.44313263,  0.04013759],\n",
       "       [-0.93379229, -0.98260737, -0.58258504,  1.26725643, -0.23920857,\n",
       "         0.44505578, -0.8927998 , -0.08315706,  0.39910704, -0.03481164,\n",
       "         0.13701747,  0.19856585, -0.21804548,  1.06781293, -2.31185776],\n",
       "       [-0.93379229,  1.01770049,  0.6754203 , -0.98501669, -0.23920857,\n",
       "         0.16056279, -0.8927998 , -0.5678856 ,  0.72689383,  0.49675802,\n",
       "         0.13701747,  0.19856585, -0.21804548, -0.18154768, -0.93986047],\n",
       "       [ 0.10991028,  1.01770049,  0.25608519, -2.48653211,  2.61325055,\n",
       "        -0.1239302 , -0.8927998 , -0.58000382,  0.81629022,  0.50435187,\n",
       "        -0.77780869,  0.66642426, -0.5624773 , -0.80622799,  0.53013662],\n",
       "       [-0.93379229,  1.01770049,  0.25608519, -0.98501669, -0.23920857,\n",
       "         0.72954878,  0.55560119, -0.28310759,  0.39910704,  0.18541008,\n",
       "         0.13701747,  0.19856585, -0.21804548, -1.43090829, -0.54786125],\n",
       "       [-0.93379229,  1.01770049, -0.02347156, -0.98501669,  0.71161113,\n",
       "         0.44505578, -0.8927998 , -0.01044778,  0.22031425, -0.10315631,\n",
       "         0.13701747,  0.19856585, -0.21804548, -0.18154768, -3.29185583]])"
      ]
     },
     "execution_count": 68,
     "metadata": {},
     "output_type": "execute_result"
    }
   ],
   "source": [
    "X_test_scaled"
   ]
  },
  {
   "cell_type": "code",
   "execution_count": 61,
   "id": "b618fd47-5958-4f6d-8d62-876920069c20",
   "metadata": {},
   "outputs": [],
   "source": [
    "# model.save('AlzheimerPredictionWithANN.h5')\n",
    "model.save('AlzheimerPredictionWithANN.keras')"
   ]
  },
  {
   "cell_type": "code",
   "execution_count": 69,
   "id": "aa22ea59-0155-4883-84c1-235601d312db",
   "metadata": {},
   "outputs": [
    {
     "data": {
      "text/plain": [
       "['scaler.pkl']"
      ]
     },
     "execution_count": 69,
     "metadata": {},
     "output_type": "execute_result"
    }
   ],
   "source": [
    "import joblib\n",
    "\n",
    "# Save the fitted scaler\n",
    "joblib.dump(scaler, 'scaler.pkl')\n"
   ]
  },
  {
   "cell_type": "code",
   "execution_count": null,
   "id": "47ac0147-28fd-49e7-8be1-248db2c905a5",
   "metadata": {},
   "outputs": [],
   "source": []
  }
 ],
 "metadata": {
  "kernelspec": {
   "display_name": "Python 3 (ipykernel)",
   "language": "python",
   "name": "python3"
  },
  "language_info": {
   "codemirror_mode": {
    "name": "ipython",
    "version": 3
   },
   "file_extension": ".py",
   "mimetype": "text/x-python",
   "name": "python",
   "nbconvert_exporter": "python",
   "pygments_lexer": "ipython3",
   "version": "3.12.5"
  }
 },
 "nbformat": 4,
 "nbformat_minor": 5
}
